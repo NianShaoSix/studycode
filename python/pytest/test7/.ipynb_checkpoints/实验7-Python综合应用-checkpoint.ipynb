{
 "cells": [
  {
   "cell_type": "markdown",
   "metadata": {},
   "source": [
    "\n",
    "## <center>实验七 Python综合应用</center>"
   ]
  },
  {
   "cell_type": "markdown",
   "metadata": {},
   "source": [
    "姓名： 谢大伟                           学号： 9109223004                  班级：计算机科学与技术231班   "
   ]
  },
  {
   "cell_type": "markdown",
   "metadata": {},
   "source": []
  },
  {
   "cell_type": "markdown",
   "metadata": {},
   "source": [
    "### 一、实验目的\n",
    "1. 了解Python在文本分析、科学计算和数据分析等方面得具体应用。\n",
    "2. 掌握Python应用程序得的编写方法。\n"
   ]
  },
  {
   "cell_type": "markdown",
   "metadata": {},
   "source": [
    "### 二、实验内容\n",
    "1. 下载一篇格式为文本文件的中文小说，制作高频词云并统计出场次数最多的10个人物。\n",
    "2. 完成教材233页的课后练习第1、2题。\n",
    "\n"
   ]
  },
  {
   "cell_type": "markdown",
   "metadata": {},
   "source": [
    "### 三 实验步骤"
   ]
  },
  {
   "cell_type": "markdown",
   "metadata": {},
   "source": [
    "1. 下载一篇格式为文本文件的中文小说，制作高频词云并统计出场次数最多的10个人物。"
   ]
  },
  {
   "cell_type": "code",
   "execution_count": null,
   "metadata": {},
   "outputs": [],
   "source": [
    "import jieba\n",
    "import os\n",
    "import wordcloud\n",
    "import matplotlib.pyplot as plt\n",
    "from imageio import imread\n",
    "#得到文本\n",
    "def getText(filepath):\n",
    "    with open(filepath,\"r\",encoding = 'utf-8') as f:\n",
    "        text = f.read()\n",
    "        return text\n",
    "\n",
    "#增加停用词\n",
    "def stopwordslist(filepath):\n",
    "    stopwords = [line.strip() for line in  open(filepath, 'r',encoding='utf-8').readlines()]\n",
    "    return stopwords\n",
    "\n",
    "#分频统计词频\n",
    "def wordFreq(filepath,text,topn):\n",
    "    #使用jieba库中的lcut对文本文件分词\n",
    "    words = jieba.lcut(text.strip())\n",
    "    counts = {}\n",
    "    stopwords = stopwordslist('stop_words.txt')\n",
    "    #删除长度为1的字符\n",
    "    for word in words:\n",
    "        if len(word) == 1:\n",
    "            continue\n",
    "        elif word not in stopwords :\n",
    "    # 人物名称统一处理\n",
    "            if word == '云长'or word == '关公': word = '关羽'\n",
    "            elif word == '玄德': word = '刘备'\n",
    "            elif word == '孟德': word = '曹操'\n",
    "            elif word == '翼德': word = '张飞' \n",
    "            elif word == '子龙': word = '赵云'\n",
    "            elif word == '奉先': word = '吕布'\n",
    "            elif word == '仲达': word = '司马懿'\n",
    "            elif word == '公瑾': word = '周瑜'\n",
    "            elif word == '伯符': word = '孙策'\n",
    "            elif word == '仲谋': word = '孙权'\n",
    "            elif word == '文远': word = '张辽'\n",
    "            elif word == '妙才': word = '夏侯渊'\n",
    "            elif word == '元让': word = '夏侯惇'\n",
    "            elif word == '子和': word = '曹纯'\n",
    "            elif word == '文若': word = '荀彧'\n",
    "            elif word == '奉孝': word = '郭嘉'\n",
    "            elif word == '子孝': word = '曹仁'\n",
    "            elif word == '文和': word = '贾诩'\n",
    "            elif word == '汉升': word = '黄忠'\n",
    "            elif word == '幼平': word = '周泰'\n",
    "            elif word == '子明': word = '吕蒙'\n",
    "            elif word == '子敬': word = '鲁肃'\n",
    "            elif word == '兴霸': word = '甘宁'\n",
    "            elif word == '元直': word = '徐庶'\n",
    "            elif word == '士元': word = '庞统'\n",
    "            elif word == '孔明': word = '诸葛亮'\n",
    "            elif word == '季常': word = '马良'\n",
    "            elif word == '文长': word = '魏延'\n",
    "            elif word == '孝直': word = '法正'\n",
    "            elif word == '子衡': word = '步骘'\n",
    "            elif word == '子布': word = '张昭'\n",
    "            # 女性角色\n",
    "            elif word == '尚香': word = '孙夫人'\n",
    "            elif word == '蝉儿': word = '貂蝉'\n",
    "            # 君主尊称\n",
    "            elif word == '吴侯': word = '孙权'\n",
    "            elif word == '晋王': word = '司马昭'\n",
    "            # 敌我双方称呼\n",
    "            elif word == '诸葛村夫': word = '诸葛亮'\n",
    "            elif word == '碧眼儿': word = '孙权'\n",
    "            # 父子兄弟\n",
    "            elif word == '伯约': word = '姜维'\n",
    "            elif word == '思远': word = '张悌'\n",
    "            # 特殊称谓\n",
    "            elif word == '卧龙': word = '诸葛亮'\n",
    "            elif word == '凤雏': word = '庞统'\n",
    "            elif word == '虎痴': word = '许褚'\n",
    "            elif word == '冢虎': word = '司马懿'\n",
    "            # 异族首领\n",
    "            elif word == '单于': word = '匈奴王'\n",
    "            elif word == '大汗': word = '轲比能'\n",
    "            # 补充遗漏\n",
    "            elif word == '子远': word = '许攸'\n",
    "            elif word == '公台': word = '陈宫'\n",
    "            elif word == '元皓': word = '田丰'\n",
    "            elif word == '异度': word = '蒯越'\n",
    "            elif word == '子将': word = '许劭'\n",
    "            # 处理复姓\n",
    "            elif word in ['孔明', '诸葛']: word = '诸葛亮'\n",
    "            elif word in ['仲达', '司马']: word = '司马懿'\n",
    "            \n",
    "            counts[word] = counts.get(word,0) + 1\n",
    "    items = list(counts.items())\n",
    "    items.sort(key = lambda x:x[1], reverse = True )\n",
    "    with open(filepath[:-4]+'_词频.txt',\"w\",encoding = 'utf-8') as f:\n",
    "        for i in range(topn):\n",
    "            word,count = items[i]\n",
    "            f.write(\"{}\\t{}\\n\".format(word,count))\n",
    "    return f,items[:topn]\n",
    "\n",
    "def create_wordcloud(freq_file, font_path='simhei.ttf', mask_file=None):\n",
    "    # 读取词频文件\n",
    "    with open(freq_file, 'r', encoding='utf-8') as f:\n",
    "        text = f.read()\n",
    "    \n",
    "    # 将词频转换为字典\n",
    "    freq_dict = {}\n",
    "    for line in text.split('\\n'):\n",
    "        if '\\t' in line:\n",
    "            word, count = line.split('\\t')\n",
    "            freq_dict[word] = int(count)\n",
    "    \n",
    "    # 设置词云参数\n",
    "    wc = wordcloud.WordCloud(\n",
    "        font_path=font_path,    # 中文字体（需要下载simhei.ttf）\n",
    "        width=1200,             # 宽度\n",
    "        height=800,             # 高度\n",
    "        background_color='white',# 背景色\n",
    "        max_words=200,          # 最大显示词数\n",
    "        max_font_size=150,      # 最大字体尺寸\n",
    "        scale=2,                # 清晰度倍增系数\n",
    "        collocations=False,     # 避免重复词汇\n",
    "        prefer_horizontal=0.9  # 水平显示比例\n",
    "    )\n",
    "    \n",
    "    # 如果有蒙版图片\n",
    "    if mask_file and os.path.exists(mask_file):\n",
    "        mask = imread(mask_file)\n",
    "        wc.mask = mask\n",
    "    \n",
    "    # 生成词云\n",
    "    wc.generate_from_frequencies(freq_dict)\n",
    "    \n",
    "    # 显示词云\n",
    "    plt.figure(dpi=120)  # 设置显示分辨率\n",
    "    plt.imshow(wc, interpolation='bilinear')\n",
    "    plt.axis(\"off\")\n",
    "    plt.show()\n",
    "    \n",
    "    # 保存图片\n",
    "    wc.to_file(freq_file[:-4]+'_词云.png')\n",
    "    print(f\"词云已保存至：{freq_file[:-4]}_词云.png\")\n",
    "\n",
    "def main():\n",
    "    os.chdir(r\"D:\\studycode\\python\\pytest\\test7\")\n",
    "    filepath = \"《三国演义》.txt\"\n",
    "    text = getText(filepath)\n",
    "    f1, items = wordFreq(filepath, text, 10)\n",
    "    \n",
    "    # 生成词云（需要simhei.ttf字体文件）\n",
    "    create_wordcloud(\n",
    "        freq_file=filepath[:-4]+'_词频.txt',\n",
    "        font_path='simhei.ttf',\n",
    "        mask_file='china_map.png'  # 可选蒙版图片\n",
    "    )\n",
    "    \n",
    "    # 打印前10结果\n",
    "    for name,freq in items:\n",
    "        print(\"{}\\t{}\".format(name,freq))\n",
    "if __name__ == \"__main__\":\n",
    "    main()\n"
   ]
  },
  {
   "cell_type": "markdown",
   "metadata": {},
   "source": [
    "2. 完成教材233页的课后练习第1题。"
   ]
  },
  {
   "cell_type": "code",
   "execution_count": null,
   "metadata": {},
   "outputs": [],
   "source": [
    "\n"
   ]
  },
  {
   "cell_type": "markdown",
   "metadata": {},
   "source": [
    "3. 完成教材233页的课后练习第2题。"
   ]
  },
  {
   "cell_type": "code",
   "execution_count": null,
   "metadata": {},
   "outputs": [],
   "source": []
  },
  {
   "cell_type": "markdown",
   "metadata": {},
   "source": [
    "### 四 实验总结"
   ]
  },
  {
   "cell_type": "code",
   "execution_count": null,
   "metadata": {},
   "outputs": [],
   "source": []
  }
 ],
 "metadata": {
  "kernelspec": {
   "display_name": "cv",
   "language": "python",
   "name": "cv"
  },
  "language_info": {
   "codemirror_mode": {
    "name": "ipython",
    "version": 3
   },
   "file_extension": ".py",
   "mimetype": "text/x-python",
   "name": "python",
   "nbconvert_exporter": "python",
   "pygments_lexer": "ipython3",
   "version": "3.6.10"
  }
 },
 "nbformat": 4,
 "nbformat_minor": 4
}
