{
 "cells": [
  {
   "cell_type": "markdown",
   "metadata": {},
   "source": [
    "## <center>实验四 字典与集合</center>"
   ]
  },
  {
   "cell_type": "markdown",
   "metadata": {},
   "source": [
    "姓名：谢大伟                            学号：9109223004             班级：计算机科学与技术231班   "
   ]
  },
  {
   "cell_type": "markdown",
   "metadata": {},
   "source": [
    "### 一、实验目的\n",
    "1. 了解散列表的实现方法以及散列表的应用；\n",
    "2. 掌握字典和集合类型的使用方法；\n",
    "3. 了解字典和集合的典型应用，散列类型与序列类型的异同。\n"
   ]
  },
  {
   "cell_type": "markdown",
   "metadata": {},
   "source": [
    "### 二、实验内容\n",
    "1. 练习字典和集合对象的创建方法。 \n",
    "2. 完成教材177页的课后练习第1、2题"
   ]
  },
  {
   "cell_type": "markdown",
   "metadata": {},
   "source": [
    "### 三 实验步骤"
   ]
  },
  {
   "cell_type": "markdown",
   "metadata": {},
   "source": [
    "1. 练习字典和集合对象的创建方法。  "
   ]
  },
  {
   "cell_type": "code",
   "execution_count": 12,
   "metadata": {},
   "outputs": [
    {
     "name": "stdout",
     "output_type": "stream",
     "text": [
      "{'zhangsan': 100001, 'lisi': 100002, 'wangwu': 100003}\n",
      "('zangsan', 'lisi', 'wangwu')\n",
      "{'zangsan': 100001, 'lisi': 100002, 'wangwu': 100003}\n",
      "{1, 2, 3, 4, 5, 6}\n",
      "{1, 2, 3, 4, 5, 6}\n"
     ]
    }
   ],
   "source": [
    "#直接创建字典\n",
    "dicStudents1 = {'zhangsan':100001,'lisi':100002,'wangwu':100003}\n",
    "print(dicStudents1)\n",
    "#使用内置函数dict()创建字典\n",
    "names = ('zangsan','lisi','wangwu')\n",
    "ids = (100001,100002,100003)\n",
    "dicStudents2 = dict(zip(names,ids))\n",
    "print(dicStudents2)\n",
    "\n",
    "#直接创建集合\n",
    "set1 = {1,2,3,4,5,6}\n",
    "print(set1)\n",
    "#使用set()函数创建集合\n",
    "set2 = set([1,2,3,4,5,6,1])\n",
    "print(set2)\n"
   ]
  },
  {
   "cell_type": "markdown",
   "metadata": {},
   "source": [
    "2. 教材177页的课后练习第1题"
   ]
  },
  {
   "cell_type": "code",
   "execution_count": 48,
   "metadata": {},
   "outputs": [
    {
     "name": "stdout",
     "output_type": "stream",
     "text": [
      "更改前的通讯录为：\n",
      "{'小新': [13913000001, 18191220001, 'xx9907'], '小亮': [13913000002, 181191220002, '13913000002'], '小刚': [13913000003, 18191220003, 'gang1004'], '大刘': [1391400001, 18191230001, 'liu666'], '大王': [13914000002, 18191230002, 'jack_w'], '大张': [13914000003, 18191230003, '13914000003']}\n",
      "更改后的通讯录为：\n",
      "{'小新': [13913000001, 18191220001, 'xx9907'], '小亮': [13913000002, 181191220002, '13913000002'], '小刚': [13913000003, 18191220003, 'gang1004'], '大刘': [1391400001, 18191230001, 'liu666'], '大王': [13914000004, 18191230002, 'jack_w'], '大张': [13914000003, 18191230003, '13914000003']}\n"
     ]
    },
    {
     "name": "stdin",
     "output_type": "stream",
     "text": [
      "请输入你要查询同学的姓名： 大王\n"
     ]
    },
    {
     "name": "stdout",
     "output_type": "stream",
     "text": [
      "大王同学的联系方式为：[13914000004, 18191230002, 'jack_w']\n"
     ]
    },
    {
     "name": "stdin",
     "output_type": "stream",
     "text": [
      "请输入你要查询同学的姓名： 大大\n"
     ]
    },
    {
     "name": "stdout",
     "output_type": "stream",
     "text": [
      "没有该同学的联系方式\n"
     ]
    }
   ],
   "source": [
    "#创建通讯录\n",
    "dicTXL = {'小新':[13913000001,18191220001],\n",
    "          '小亮':[13913000002,181191220002],\n",
    "          '小刚':[13913000003,18191220003]}\n",
    "#隔壁宿舍舍长通讯录\n",
    "dicOther = {'大刘':[1391400001,18191230001],\n",
    "            '大王':[13914000002,18191230002],\n",
    "            '大张':[13914000003,18191230003]}\n",
    "\n",
    "#合并通讯录\n",
    "dicTXL.update(dicOther)\n",
    "#微信通讯录\n",
    "dicWX = {'小新':'xx9907',\n",
    "         '小刚':'gang1004',\n",
    "         '大王':'jack_w',\n",
    "         '大刘':'liu666'}\n",
    "for k,v in dicTXL.items():\n",
    "    if(k in dicWX):\n",
    "        dicTXL[k].append(dicWX[k])\n",
    "    else:\n",
    "        dicTXL[k].append(str(dicTXL[k][0]))\n",
    "print('更改前的通讯录为：')\n",
    "print(dicTXL)\n",
    "print('更改后的通讯录为：')\n",
    "#将大王的手机号更改为13914000004\n",
    "dicTXL['大王'][0] = 13914000004\n",
    "print(dicTXL)\n",
    "\n",
    "#查询同学信息（示例两次一次存在一次不存在）\n",
    "for i in range(0,2):\n",
    "    name = input(\"请输入你要查询同学的姓名：\")\n",
    "    if(name in dicTXL):\n",
    "        print('{}同学的联系方式为：{}'.format(name,dicTXL[name]))\n",
    "    else:\n",
    "        print('没有该同学的联系方式')\n"
   ]
  },
  {
   "cell_type": "markdown",
   "metadata": {},
   "source": [
    "3. 教材177页的课后练习第2题"
   ]
  },
  {
   "cell_type": "code",
   "execution_count": 45,
   "metadata": {},
   "outputs": [
    {
     "name": "stdout",
     "output_type": "stream",
     "text": [
      "037的最终得分为：95.67\n",
      "066的最终得分为：94.83\n",
      "020的最终得分为：93.00\n",
      "005的最终得分为：92.50\n",
      "108的最终得分为：91.17\n",
      "012的最终得分为：88.67\n"
     ]
    }
   ],
   "source": [
    "#评分表\n",
    "scoreTable = {'012':[90,94,97,86,85,89,88,85],\n",
    "              '005':[91,91,92,98,90,96,90,95],\n",
    "              '108':[96,86,97,96,87,86,86,96],\n",
    "              '037':[95,95,94,93,97,98,99,95],\n",
    "              '066':[95,87,94,94,93,99,96,97],\n",
    "              '020':[89,97,91,95,89,94,97,92]}\n",
    "#计算评委个数\n",
    "length = len(scoreTable['012'])\n",
    "#给每个选手分数排序--->升序\n",
    "for i in scoreTable:\n",
    "    scoreTable[i].sort()\n",
    "    #删除最高分和最低分\n",
    "    del scoreTable[i][length - 1]\n",
    "    del scoreTable[i][0]\n",
    "length= length - 2\n",
    "#计算平均分\n",
    "avgs = [(i,sum(scoreTable[i][0:])/length) for i in scoreTable]\n",
    "avgs.sort(key = lambda x:x[1],reverse = True)\n",
    "for i in avgs:\n",
    "    print('{}的最终得分为：{:.2f}'.format(i[0],i[1]))"
   ]
  },
  {
   "cell_type": "markdown",
   "metadata": {},
   "source": [
    "### 四 实验总结"
   ]
  },
  {
   "cell_type": "markdown",
   "metadata": {},
   "source": [
    "1. 通过本次实验，我掌握了以下内容：\n",
    "- 散列表的实现方法：理解了散列函数和冲突解决方法。\n",
    "- 字典的使用方法：学会了创建、操作和遍历字典，了解了字典的典型应用场景。\n",
    "- 集合的使用方法：掌握了集合的创建、操作和集合运算，理解了集合的典型应用。\n",
    "- 字典与集合的异同：明确了字典和集合的区别及其适用场景。\n",
    "- 字典与序列类型的异同：对比了字典和序列类型的特点，理解了它们的适用场景。\n",
    "2. 心得体会：\n",
    "- 字典和集合的高效性：散列表的底层实现使得字典和集合在查找和插入操作上具有很高的效率。\n",
    "- 实际应用：字典适合存储键值对数据，集合适合处理唯一值和集合运算。\n",
    "- 注意事项：字典的键必须是可哈希的，集合的元素也必须是可哈希的。\n",
    "3. 实验中出现的问题：\n",
    "- for循环和print函数格式化输出不够熟练。\n",
    "- 使用到了sort来排序，但是对于指定关键字排序还有待练习提升。\n",
    "- 字典可用性很高，对于其合并还可以深入学习。\n",
    "- 本实验对于集合的练习不够，课后可以额外练习。"
   ]
  }
 ],
 "metadata": {
  "kernelspec": {
   "display_name": "Python 3 (ipykernel)",
   "language": "python",
   "name": "python3"
  },
  "language_info": {
   "codemirror_mode": {
    "name": "ipython",
    "version": 3
   },
   "file_extension": ".py",
   "mimetype": "text/x-python",
   "name": "python",
   "nbconvert_exporter": "python",
   "pygments_lexer": "ipython3",
   "version": "3.12.7"
  }
 },
 "nbformat": 4,
 "nbformat_minor": 4
}
