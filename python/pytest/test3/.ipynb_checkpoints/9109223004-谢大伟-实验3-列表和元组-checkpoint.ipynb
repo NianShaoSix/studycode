{
 "cells": [
  {
   "cell_type": "markdown",
   "metadata": {},
   "source": [
    "## <center>实验三 列表与元组</center>"
   ]
  },
  {
   "cell_type": "markdown",
   "metadata": {},
   "source": [
    "姓名： 谢大伟                           学号： 9109223004                  班级： 计算机科学与技术231班  "
   ]
  },
  {
   "cell_type": "markdown",
   "metadata": {},
   "source": [
    "### 一、实验目的\n",
    "1. 了解Python序列类型的基本概念与常用操作；\n",
    "2. 掌握列表、元组、字符串和数字序列等常用序列类型的使用方法；\n",
    "3. 理解列表与元组的区别。"
   ]
  },
  {
   "cell_type": "markdown",
   "metadata": {},
   "source": [
    "### 二、实验内容\n",
    "1. 练习列表、元组、字符串和数字序列对象的创建方法。 \n",
    "2. 利用多种方法实现斐波那契数列的输出，并比较不同实现方法的性能。\n",
    "3. 完成教材93页的课后练习第1、5、6题"
   ]
  },
  {
   "cell_type": "markdown",
   "metadata": {},
   "source": [
    "### 三 实验步骤"
   ]
  },
  {
   "cell_type": "markdown",
   "metadata": {},
   "source": [
    "1. 练习列表、元组、字符串和数字序列对象的创建方法。 "
   ]
  },
  {
   "cell_type": "code",
   "execution_count": null,
   "metadata": {},
   "outputs": [],
   "source": [
    "\n",
    "#list\n",
    "students = [\"张三\",\"李四\",\"王五\"]\n",
    "#tuple\n",
    "tupScores = 98,96,97,95 #tupScores = (98,96,97,95)\n",
    "tupNames = (\"萧何\",) #没有逗号会变成str\n",
    "#str\n",
    "name = '萧何'\n",
    "#数字序列\n",
    "number_list = list(range(1,11))"
   ]
  },
  {
   "cell_type": "markdown",
   "metadata": {},
   "source": [
    "2. 利用多种方法实现斐波那契数列的输出，并比较不同实现方法的性能。"
   ]
  },
  {
   "cell_type": "markdown",
   "metadata": {},
   "source": []
  },
  {
   "cell_type": "markdown",
   "metadata": {},
   "source": []
  },
  {
   "cell_type": "markdown",
   "metadata": {},
   "source": []
  },
  {
   "cell_type": "markdown",
   "metadata": {},
   "source": []
  },
  {
   "cell_type": "code",
   "execution_count": null,
   "metadata": {},
   "outputs": [],
   "source": [
    "\n"
   ]
  },
  {
   "cell_type": "markdown",
   "metadata": {},
   "source": [
    "3. 有列表l=[54, 36, 75, 28, 50],请根据要求完成以下操作\n",
    "（1）在列表尾部插入元素42\n",
    "（2）在28前面插入元素66\n",
    "（1）删除并输出元素28\n",
    "（4）将列表按降序排列\n",
    "（5）清空整个列表。（教材93页第1题）"
   ]
  },
  {
   "cell_type": "code",
   "execution_count": 3,
   "metadata": {},
   "outputs": [
    {
     "name": "stdout",
     "output_type": "stream",
     "text": [
      "列表为：\n",
      "[54, 36, 75, 28, 50]\n",
      "在列表尾部插入元素42:\n",
      "[54, 36, 75, 28, 50, 42]\n",
      "在28前面插入66:\n",
      "[54, 36, 75, 66, 28, 50, 42]\n",
      "删除并输出元素28:\n",
      "28\n",
      "[54, 36, 75, 66, 50, 42]\n",
      "将列表降序排列:\n",
      "[75, 66, 54, 50, 42, 36]\n",
      "清空列表:\n",
      "[]\n"
     ]
    }
   ],
   "source": [
    "print(\"列表为：\")\n",
    "I = [54,36,75,28,50]\n",
    "print(I)\n",
    "print(\"在列表尾部插入元素42:\")\n",
    "I.append(42)\n",
    "print(I)\n",
    "print(\"在28前面插入66:\")\n",
    "I.insert(3,66)\n",
    "print(I)\n",
    "print(\"删除并输出元素28:\")\n",
    "i = I.index(28)\n",
    "print(I.pop(i))\n",
    "print(I)\n",
    "print(\"将列表降序排列:\")\n",
    "I.sort(reverse = True)\n",
    "print(I)\n",
    "print(\"清空列表:\")\n",
    "I.clear()\n",
    "print(I)"
   ]
  },
  {
   "cell_type": "markdown",
   "metadata": {},
   "source": [
    "\n",
    "   4. 创建长度为20得列表，其元素为1000~5000以内得随机整数。编写程序找出列表中不能被10以内素数整除得元素。（教材93页第5题）"
   ]
  },
  {
   "cell_type": "code",
   "execution_count": null,
   "metadata": {},
   "outputs": [
    {
     "name": "stdout",
     "output_type": "stream",
     "text": [
      "[2865, 1146, 2282, 4901, 1029, 3384, 3969, 3786, 1676, 4899, 4035, 4384, 3675, 4811, 2544, 4423, 1629, 3222, 2515, 3922]\n",
      "4901 4811 4423 "
     ]
    }
   ],
   "source": [
    "import random\n",
    "random_integers_list = [random.randint(1000, 5000) for i in range(20)]\n",
    "print(random_integers_list)\n",
    "\n",
    "for i in random_integers_list:\n",
    "    if(i%2!=0 and i%3!=0 and i%5!=0 and i%7!=0):\n",
    "        print(i,end=' ')"
   ]
  },
  {
   "cell_type": "markdown",
   "metadata": {},
   "source": [
    "5. 请参考例4-9，用嵌套得列表存储运动会报名表（见表4-4），并编程完成如下操作。（教材93页第6题）"
   ]
  },
  {
   "cell_type": "code",
   "execution_count": null,
   "metadata": {},
   "outputs": [],
   "source": []
  },
  {
   "cell_type": "markdown",
   "metadata": {},
   "source": [
    "### 四 实验总结"
   ]
  },
  {
   "cell_type": "markdown",
   "metadata": {},
   "source": []
  }
 ],
 "metadata": {
  "kernelspec": {
   "display_name": "base",
   "language": "python",
   "name": "python3"
  },
  "language_info": {
   "codemirror_mode": {
    "name": "ipython",
    "version": 3
   },
   "file_extension": ".py",
   "mimetype": "text/x-python",
   "name": "python",
   "nbconvert_exporter": "python",
   "pygments_lexer": "ipython3",
   "version": "3.12.7"
  }
 },
 "nbformat": 4,
 "nbformat_minor": 4
}
