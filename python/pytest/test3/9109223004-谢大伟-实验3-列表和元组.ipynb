{
 "cells": [
  {
   "cell_type": "markdown",
   "metadata": {},
   "source": [
    "## <center>实验三 列表与元组</center>"
   ]
  },
  {
   "cell_type": "markdown",
   "metadata": {},
   "source": [
    "姓名： 谢大伟                           学号： 9109223004                  班级： 计算机科学与技术231班  "
   ]
  },
  {
   "cell_type": "markdown",
   "metadata": {},
   "source": [
    "### 一、实验目的\n",
    "1. 了解Python序列类型的基本概念与常用操作；\n",
    "2. 掌握列表、元组、字符串和数字序列等常用序列类型的使用方法；\n",
    "3. 理解列表与元组的区别。"
   ]
  },
  {
   "cell_type": "markdown",
   "metadata": {},
   "source": [
    "### 二、实验内容\n",
    "1. 练习列表、元组、字符串和数字序列对象的创建方法。 \n",
    "2. 利用多种方法实现斐波那契数列的输出，并比较不同实现方法的性能。\n",
    "3. 完成教材145页的课后练习第1、5、6题"
   ]
  },
  {
   "cell_type": "markdown",
   "metadata": {},
   "source": [
    "### 三 实验步骤"
   ]
  },
  {
   "cell_type": "markdown",
   "metadata": {},
   "source": [
    "1. 练习列表、元组、字符串和数字序列对象的创建方法。 "
   ]
  },
  {
   "cell_type": "code",
   "execution_count": null,
   "metadata": {},
   "outputs": [],
   "source": [
    "#list\n",
    "students = [\"张三\",\"李四\",\"王五\"]\n",
    "#tuple\n",
    "tupScores = 98,96,97,95 #tupScores = (98,96,97,95)\n",
    "tupNames = (\"萧何\",) #没有逗号会变成str\n",
    "#str\n",
    "name = '萧何'\n",
    "#数字序列\n",
    "number_list = list(range(1,11))"
   ]
  },
  {
   "cell_type": "markdown",
   "metadata": {},
   "source": [
    "2. 利用多种方法实现斐波那契数列的输出，并比较不同实现方法的性能。"
   ]
  },
  {
   "cell_type": "code",
   "execution_count": null,
   "metadata": {},
   "outputs": [],
   "source": [
    "#递归方法实现\n",
    " def fib_recursive(n):\n",
    "    if n <= 1:\n",
    "        return n\n",
    "    return fib_recursive(n-1) + fib_recursive(n-2)"
   ]
  },
  {
   "cell_type": "code",
   "execution_count": null,
   "metadata": {},
   "outputs": [],
   "source": [
    "#迭代法\n",
    "def fib_iterative(n):\n",
    "    a, b = 0, 1\n",
    "    for _ in range(n):\n",
    "        a, b = b, a + b\n",
    "    return a"
   ]
  },
  {
   "cell_type": "code",
   "execution_count": null,
   "metadata": {},
   "outputs": [],
   "source": [
    "#动态规划\n",
    "from functools import lru_cache\n",
    "\n",
    "@lru_cache(maxsize=None)\n",
    "def fib_dp(n):\n",
    "    if n <= 1:\n",
    "        return n\n",
    "    return fib_dp(n-1) + fib_dp(n-2)"
   ]
  },
  {
   "cell_type": "code",
   "execution_count": null,
   "metadata": {},
   "outputs": [],
   "source": [
    "#矩阵快速幂\n",
    "import numpy as np\n",
    "\n",
    "def matrix_power(matrix, n):\n",
    "    result = np.eye(2, dtype=int)\n",
    "    while n > 0:\n",
    "        if n % 2 == 1:\n",
    "            result = np.dot(result, matrix)\n",
    "        matrix = np.dot(matrix, matrix)\n",
    "        n //= 2\n",
    "    return result\n",
    "\n",
    "def fib_matrix(n):\n",
    "    base = np.array([[1,1], [1,0]])\n",
    "    return matrix_power(base, n)[0,1]"
   ]
  },
  {
   "cell_type": "markdown",
   "metadata": {},
   "source": [
    "1. 递归法\n",
    "特点：\n",
    "- 时间复杂度：O(2ⁿ)，存在大量重复计算（如计算F(5)需重复计算F(3)和F(2)）。\n",
    "- 适用场景：仅适合教学或极小规模计算（n≤30时可用），实际性能极差。\n",
    "2. 迭代法\n",
    "特点：\n",
    "- 时间复杂度：O(n)，空间复杂度O(1)。\n",
    "- 性能优势：无重复计算，适合计算大数.\n",
    "3. 动态规划\n",
    "- 时间复杂度：O(n)，通过缓存中间结果消除递归的冗余计算。\n",
    "- 适用场景：需要递归的简洁性但需优化性能的场景。\n",
    "4. 矩阵快速幂\n",
    "- 时间复杂度：O(log n)，利用矩阵幂的快速幂算法，适合超大规模计算。\n",
    "- 数学原理：基于斐波那契的矩阵表示法，通过分治策略减少计算量。"
   ]
  },
  {
   "cell_type": "markdown",
   "metadata": {},
   "source": [
    "3. 有列表l=[54, 36, 75, 28, 50],请根据要求完成以下操作\n",
    "（1）在列表尾部插入元素42\n",
    "（2）在28前面插入元素66\n",
    "（1）删除并输出元素28\n",
    "（4）将列表按降序排列\n",
    "（5）清空整个列表。（教材144页第1题）"
   ]
  },
  {
   "cell_type": "code",
   "execution_count": 3,
   "metadata": {},
   "outputs": [
    {
     "name": "stdout",
     "output_type": "stream",
     "text": [
      "列表为：\n",
      "[54, 36, 75, 28, 50]\n",
      "在列表尾部插入元素42:\n",
      "[54, 36, 75, 28, 50, 42]\n",
      "在28前面插入66:\n",
      "[54, 36, 75, 66, 28, 50, 42]\n",
      "删除并输出元素28:\n",
      "28\n",
      "[54, 36, 75, 66, 50, 42]\n",
      "将列表降序排列:\n",
      "[75, 66, 54, 50, 42, 36]\n",
      "清空列表:\n",
      "[]\n"
     ]
    }
   ],
   "source": [
    "print(\"列表为：\")\n",
    "I = [54,36,75,28,50]\n",
    "print(I)\n",
    "print(\"在列表尾部插入元素42:\")\n",
    "I.append(42)\n",
    "print(I)\n",
    "print(\"在28前面插入66:\")\n",
    "I.insert(3,66)\n",
    "print(I)\n",
    "print(\"删除并输出元素28:\")\n",
    "i = I.index(28)\n",
    "print(I.pop(i))\n",
    "print(I)\n",
    "print(\"将列表降序排列:\")\n",
    "I.sort(reverse = True)\n",
    "print(I)\n",
    "print(\"清空列表:\")\n",
    "I.clear()\n",
    "print(I)"
   ]
  },
  {
   "cell_type": "markdown",
   "metadata": {},
   "source": [
    "\n",
    "   4. 创建长度为20得列表，其元素为1000~5000以内得随机整数。编写程序找出列表中不能被10以内素数整除得元素。（教材145页第5题）"
   ]
  },
  {
   "cell_type": "code",
   "execution_count": null,
   "metadata": {},
   "outputs": [
    {
     "name": "stdout",
     "output_type": "stream",
     "text": [
      "[2865, 1146, 2282, 4901, 1029, 3384, 3969, 3786, 1676, 4899, 4035, 4384, 3675, 4811, 2544, 4423, 1629, 3222, 2515, 3922]\n",
      "4901 4811 4423 "
     ]
    }
   ],
   "source": [
    "import random\n",
    "random_integers_list = [random.randint(1000, 5000) for i in range(20)]\n",
    "print(random_integers_list)\n",
    "\n",
    "for i in random_integers_list:\n",
    "    if(i%2!=0 and i%3!=0 and i%5!=0 and i%7!=0):\n",
    "        print(i,end=' ')"
   ]
  },
  {
   "cell_type": "markdown",
   "metadata": {},
   "source": [
    "5. 请参考例5-9，用嵌套得列表存储运动会报名表（见表5-5），并编程完成如下操作。（教材145页第6题）"
   ]
  },
  {
   "cell_type": "code",
   "execution_count": 18,
   "metadata": {},
   "outputs": [
    {
     "name": "stdout",
     "output_type": "stream",
     "text": [
      "（1）求报名项目超过两项(含两项)的学生人数\n",
      "100m 报名人数为：2人\n",
      "3000m 报名人数为：3人\n",
      "跳远 报名人数为：3人\n",
      "跳高 报名人数为：2人\n",
      "(2)输出女生的报名情况\n",
      "李丽报名了3000m 跳高 \n",
      "陈小梅报名了跳远 \n",
      "(3)输出所有报名了3000m的学生姓名和性别\n",
      "王平 男\n",
      "李丽 女\n",
      "孙洪涛 男\n"
     ]
    }
   ],
   "source": [
    "#存储每个运动员信息\n",
    "items = ['姓名','性别','100m', '3000m','跳远','跳高']\n",
    "tables = [['王平','男',1,1,0,0],['李丽','女',0,1,0,1],['陈小梅','女',0,0,1,0],['孙洪涛','男',0,1,1,1],['方亮','男',1,0,1,0]]\n",
    "\n",
    "#求报名项目超过两项(含两项)的学生人数\n",
    "list1 = [0,0,0,0]\n",
    "print(\"（1）求报名项目超过两项(含两项)的学生人数\")\n",
    "#统计各项人数\n",
    "for i in tables:\n",
    "    for j in range(2,6):\n",
    "        list1[j-2]+=i[j]\n",
    "j = 2\n",
    "for i in list1:\n",
    "    if i >=2:\n",
    "        print(items[j],'报名人数为：{}人'.format(i))\n",
    "    j+=1\n",
    "#输出所有女生报名情况\n",
    "print('(2)输出女生的报名情况')\n",
    "for i in tables:\n",
    "    if i[1] == '女':\n",
    "        print(i[0],'报名了',sep='',end='')\n",
    "        for j in range(2,6):\n",
    "            if i[j] == 1:\n",
    "                print(items[j],end=' ')\n",
    "        print('') \n",
    "#输出所有报名3000m的学生姓名和性别\n",
    "print('(3)输出所有报名了3000m的学生姓名和性别')\n",
    "for i in tables:\n",
    "    if i[3]==1:\n",
    "        print(i[0],i[1])"
   ]
  },
  {
   "cell_type": "markdown",
   "metadata": {},
   "source": [
    "### 四 实验总结"
   ]
  },
  {
   "cell_type": "markdown",
   "metadata": {},
   "source": [
    "1. 本次实验加深了我们对Python序列类型的理解，尤其是列表和元组的区别。\n",
    "2. 通过实践操作，我们掌握了序列类型的常用方法，并能够根据具体需求选择合适的序列类型。\n",
    "3. 实验过程中遇到的问题（如索引越界、修改不可变对象等）也帮助我们更好地理解了序列的特性。\n",
    "4. 未来，我将在实际项目中灵活运用这些知识，提高代码的效率和可读性。"
   ]
  }
 ],
 "metadata": {
  "kernelspec": {
   "display_name": "Python 3 (ipykernel)",
   "language": "python",
   "name": "python3"
  },
  "language_info": {
   "codemirror_mode": {
    "name": "ipython",
    "version": 3
   },
   "file_extension": ".py",
   "mimetype": "text/x-python",
   "name": "python",
   "nbconvert_exporter": "python",
   "pygments_lexer": "ipython3",
   "version": "3.12.7"
  }
 },
 "nbformat": 4,
 "nbformat_minor": 4
}
