{
 "cells": [
  {
   "cell_type": "markdown",
   "metadata": {},
   "source": [
    "## <center>实验六 文件与异常</center>"
   ]
  },
  {
   "cell_type": "markdown",
   "metadata": {},
   "source": [
    "姓名：谢大伟                            学号：9109223004                   班级：计算机科学与技术231班   "
   ]
  },
  {
   "cell_type": "markdown",
   "metadata": {},
   "source": [
    "### 一、实验目的\n",
    "1. 了解文件的基本概念，掌握文件的打开、关闭与读写等基本操作方法。\n",
    "2. 了解异常的概念，掌握常见的异常类型及其处理方法。\n",
    "3. 掌握文件与异常的基本应用。\n"
   ]
  },
  {
   "cell_type": "markdown",
   "metadata": {},
   "source": [
    "### 二、实验内容\n",
    "1. 下载一篇txt文件格式英文短文，编写程序统计该文本中出现频率排名前10的单词并生成一个词频文件。\n",
    "2. 完成教材196页的课后练习第1题。\n"
   ]
  },
  {
   "cell_type": "markdown",
   "metadata": {},
   "source": [
    "### 三 实验步骤"
   ]
  },
  {
   "cell_type": "markdown",
   "metadata": {},
   "source": [
    "1. 下载一篇txt文件格式英文短文，编写程序统计该文本中出现频率排名前10的单词并生成一个词频文件。"
   ]
  },
  {
   "cell_type": "code",
   "execution_count": 1,
   "metadata": {},
   "outputs": [],
   "source": [
    "import os\n",
    "#找到对应工作路径\n",
    "os.chdir(r\"d:/studycode/python/pytest/test6\")\n",
    "#打开文件\n",
    "file = open(\"nature.txt\",'r')\n",
    "#读取文本内容\n",
    "text = file.read()\n",
    "\n",
    "#统计文本中出现频率最高的10个单词\n",
    "#文本预处理\n",
    "def getText(text):\n",
    "    \"将文本中所有大写字母转换成小写字母\"\n",
    "    text = text.lower()\n",
    "    \"将标点符号转换成空格\"\n",
    "    for ch in \",.;?-:\\'\":\n",
    "        text = text.replace(ch,\" \")\n",
    "    return text\n",
    "\n",
    "#统计词频函数，topen表示取频率最高的单词个数\n",
    "def wordFreq(text,topn):\n",
    "    '将文本分词'\n",
    "    words = text.split()\n",
    "    counts = {}\n",
    "    for word in words:\n",
    "        counts[word] = counts.get(word,0) + 1\n",
    "    # '定义集合存放时需要去除的无意义的单词'\n",
    "    # excludes = {'the','and','to','of','a','is','it','this','that','with','from','its','us','in'}\n",
    "    # for word in excludes:\n",
    "    #     if word in counts:\n",
    "    #         del(counts[word])\n",
    "\n",
    "    '在字典转换为列表，以方便排序'\n",
    "    items = list(counts.items())\n",
    "    items.sort(key = lambda x:x[1], reverse = True)\n",
    "    return items[:topn]\n",
    "\n",
    "#统计结果\n",
    "text = getText(text)\n",
    "file2 = open(\"out.txt\",'w')\n",
    "for word,freq in wordFreq(text,10):\n",
    "    file2.write(\"{:<10}{:>}\\n\".format(word,freq))\n",
    "\n",
    "file.close()\n",
    "file2.close()\n"
   ]
  },
  {
   "cell_type": "markdown",
   "metadata": {},
   "source": [
    "英语短文--->nature.txt\n",
    "\n",
    "Nature is a beautiful and amazing thing. It surrounds us with its vibrant colors and soothing sounds. From the towering mountains to the gentle streams, nature offers a sense of peace and tranquility that is hard to find elsewhere.\n",
    "In the early morning, the sun rises and paints the sky with hues of orange and pink. Birds begin to chirp, and the air is filled with the sweet scent of flowers. Walking through a forest, one can hear the rustling of leaves and the distant sound of a waterfall. The fresh air is invigorating, and the beauty of nature is truly breathtaking.\n",
    "Nature also teaches us valuable lessons. It shows us the cycle of life and death, and how everything is interconnected. It reminds us to appreciate the simple things in life and to take care of our environment.\n",
    "In conclusion, nature is a precious gift that we should cherish and protect. It provides us with a sanctuary away from the hustle and bustle of daily life, and it inspires us to live in harmony with the world around us."
   ]
  },
  {
   "cell_type": "markdown",
   "metadata": {},
   "source": [
    "输出的词频文件--->out.txt\n",
    "\n",
    "the       15\n",
    "and       14\n",
    "of        9\n",
    "is        7\n",
    "us        7\n",
    "a         6\n",
    "to        6\n",
    "nature    5\n",
    "it        5\n",
    "with      5\n"
   ]
  },
  {
   "cell_type": "markdown",
   "metadata": {},
   "source": [
    "2. 完成教材196页的课后练习第1题。"
   ]
  },
  {
   "cell_type": "code",
   "execution_count": 3,
   "metadata": {},
   "outputs": [
    {
     "name": "stdout",
     "output_type": "stream",
     "text": [
      "大王同学的手机号为：13914000002\n",
      "大王同学的QQ号为：18191230002\n",
      "大王同学的微信号为：jack_w\n"
     ]
    }
   ],
   "source": [
    "'请根据第六章课后习题（1）中最后生成的通讯录字典创建“通讯录.csv”文件；然后编写程序实现查询大王的手机号、QQ号和微信号'\n",
    "\n",
    "import csv\n",
    "\n",
    "# 创建通讯录\n",
    "dicTXL = {'小新': [13913000001, 18191220001],\n",
    "          '小亮': [13913000002, 181191220002],\n",
    "          '小刚': [13913000003, 18191220003]}\n",
    "# 隔壁宿舍舍长通讯录\n",
    "dicOther = {'大刘': [1391400001, 18191230001],\n",
    "            '大王': [13914000002, 18191230002],\n",
    "            '大张': [13914000003, 18191230003]}\n",
    "\n",
    "# 合并通讯录\n",
    "dicTXL.update(dicOther)\n",
    "# 微信通讯录\n",
    "dicWX = {'小新': 'xx9907',\n",
    "         '小刚': 'gang1004',\n",
    "         '大王': 'jack_w',\n",
    "         '大刘': 'liu666'}\n",
    "for k, v in dicTXL.items():\n",
    "    if k in dicWX:\n",
    "        dicTXL[k].append(dicWX[k])\n",
    "    else:\n",
    "        dicTXL[k].append(str(dicTXL[k][0]))\n",
    "# print('更改前的通讯录为：')\n",
    "# print(dicTXL)\n",
    "# print('更改后的通讯录为：')\n",
    "# # 将大王的手机号更改为13914000004\n",
    "# dicTXL['大王'][0] = 13914000004\n",
    "# print(dicTXL)\n",
    "\n",
    "# 创建“通讯录.csv”文件\n",
    "with open('通讯录.csv', 'w', newline='', encoding='utf-8') as csvfile:\n",
    "    writer = csv.writer(csvfile)\n",
    "    # 写入表头\n",
    "    writer.writerow(['姓名', '手机号', 'QQ号', '微信号'])\n",
    "    # 写入通讯录数据\n",
    "    for name, info in dicTXL.items():\n",
    "        writer.writerow([name, info[0], info[1], info[2]])\n",
    "\n",
    "# 查询大王的手机号、QQ号和微信号\n",
    "name = '大王'\n",
    "if name in dicTXL:\n",
    "    print(f\"{name}同学的手机号为：{dicTXL[name][0]}\")\n",
    "    print(f\"{name}同学的QQ号为：{dicTXL[name][1]}\")\n",
    "    print(f\"{name}同学的微信号为：{dicTXL[name][2]}\")\n",
    "else:\n",
    "    print('没有该同学的联系方式')"
   ]
  },
  {
   "cell_type": "markdown",
   "metadata": {},
   "source": [
    "会生成一个名为“通讯录.csv”的文件,内容如下：\n",
    "\n",
    "姓名,手机号,QQ号,微信号\n",
    "小新,13913000001,18191220001,xx9907\n",
    "小亮,13913000002,181191220002,13913000002\n",
    "小刚,13913000003,18191220003,gang1004\n",
    "大刘,1391400001,18191230001,liu666\n",
    "大王,13914000004,18191230002,jack_w\n",
    "大张,13914000003,18191230003,13914000003\n"
   ]
  },
  {
   "cell_type": "markdown",
   "metadata": {},
   "source": [
    "### 四 实验总结"
   ]
  },
  {
   "cell_type": "markdown",
   "metadata": {},
   "source": [
    "本次实验聚焦文件操作和异常处理，以下是总结：\n",
    "1. 实验目的达成情况\n",
    "- 文件操作方面\n",
    "掌握了文件的打开（不同模式如 'r'、'w'、'a'）、关闭（close() 方法与 with 语句）和读写（读取全部内容、逐行读取，写入字符串、列表等）操作，能根据需求灵活运用。\n",
    "- 异常处理方面\n",
    "了解常见异常（FileNotFoundError、IOError、PermissionError 等），学会用 try-except 等结构处理文件操作异常，避免程序因异常崩溃。\n",
    "- 综合应用方面\n",
    "能将文件操作与异常处理结合，完成如读取文件统计内容、写入数据并处理异常等实际任务，提升程序稳定性。\n",
    "2. 实验收获与体会\n",
    "- 加深理解 ：通过实践，对文件操作和异常处理理论知识有了更直观深入的理解，明白其在程序中的关键作用。\n",
    "- 问题解决能力提升 ：遇到文件路径错误、权限不足等问题时，通过分析和调整代码解决，锻炼了问题解决能力。\n",
    "- 代码质量意识增强 ：引入异常处理后，更注重代码健壮性和可维护性，提前考虑异常情况，便于后续调试和维护。\n",
    "3. 实验不足与改进方向\n",
    "- 代码优化不足 ：部分文件操作代码存在冗余或效率问题，后续需学习优化方法，提升性能。\n",
    "- 复杂异常处理能力欠缺 ：面对复杂嵌套异常时处理不够熟练，需加强学习实践。\n",
    "\n",
    "\n",
    "总之，本次实验让我掌握了文件操作和异常处理基本技能，但也发现了自身的不足，明确了后续改进方向。"
   ]
  }
 ],
 "metadata": {
  "kernelspec": {
   "display_name": "Python 3 (ipykernel)",
   "language": "python",
   "name": "python3"
  },
  "language_info": {
   "codemirror_mode": {
    "name": "ipython",
    "version": 3
   },
   "file_extension": ".py",
   "mimetype": "text/x-python",
   "name": "python",
   "nbconvert_exporter": "python",
   "pygments_lexer": "ipython3",
   "version": "3.12.7"
  }
 },
 "nbformat": 4,
 "nbformat_minor": 4
}
