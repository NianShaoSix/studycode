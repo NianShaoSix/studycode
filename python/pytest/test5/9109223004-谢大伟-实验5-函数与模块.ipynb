{
 "cells": [
  {
   "cell_type": "markdown",
   "metadata": {},
   "source": [
    "## <center>实验五 函数与模块</center>"
   ]
  },
  {
   "cell_type": "markdown",
   "metadata": {},
   "source": [
    "姓名：  谢大伟                          学号： 9109223004                  班级： 计算机科学与技术231班  "
   ]
  },
  {
   "cell_type": "markdown",
   "metadata": {},
   "source": [
    "### 一、实验目的\n",
    "1. 了解函数的基本概念，掌握函数的声明和调用方法和python内置函数的使用。\n",
    "2. 了解变量的作用域，掌握局部变量和全局变量的使用。\n",
    "3. 了解递归函数、匿名函数的概念和使用。\n",
    "4. 了解模块化的程序设计方法，学习通过调试窗口查看变量的值。"
   ]
  },
  {
   "cell_type": "markdown",
   "metadata": {},
   "source": [
    "### 二、实验内容\n",
    "1. 练习Python函数的声明和调用，学习python内置函数的使用。\n",
    "2. 练习Python模块化的程序设计与调试的方法，在调试窗口中查看变量的值。\n",
    "3. 利用匿名函数和递归函数进行程序。\n",
    "4. 完成教材104页的课后练习第4、5题。\n"
   ]
  },
  {
   "cell_type": "markdown",
   "metadata": {},
   "source": [
    "### 三 实验步骤"
   ]
  },
  {
   "cell_type": "markdown",
   "metadata": {},
   "source": [
    "1. 练习Python函数的声明和调用，学习python内置函数的使用。  "
   ]
  },
  {
   "cell_type": "code",
   "execution_count": 3,
   "metadata": {},
   "outputs": [
    {
     "name": "stdout",
     "output_type": "stream",
     "text": [
      "3\n",
      "11\n",
      "1.11\n"
     ]
    }
   ],
   "source": [
    "#函数的定义和声明\n",
    "def sum(num1,num2):\n",
    "    '两数相加'\n",
    "    '两数必须为整数或者浮点数'\n",
    "    if not (isinstance(num1,(int,float)) and isinstance(num2,(int,float))):\n",
    "        raise TypeError('参数类型错误')\n",
    "    return num1 + num2\n",
    "\n",
    "#函数的调用\n",
    "print(sum(1,2))\n",
    "\n",
    "#python内置函数的使用\n",
    "s = 'hello world'\n",
    "print(len(s))\n",
    "a = -1.11\n",
    "print(abs(a))\n"
   ]
  },
  {
   "cell_type": "markdown",
   "metadata": {},
   "source": [
    "2. 练习Python模块化的程序设计与调试的方法，在调试窗口中查看变量的值。"
   ]
  },
  {
   "cell_type": "markdown",
   "metadata": {},
   "source": [
    "- 第一个文件 calculator.py"
   ]
  },
  {
   "cell_type": "code",
   "execution_count": null,
   "metadata": {},
   "outputs": [],
   "source": [
    "def add(a, b):\n",
    "    return a + b\n",
    "\n",
    "def subtract(a, b):\n",
    "    return a - b\n",
    "\n",
    "def multiply(a, b):\n",
    "    return a * b\n",
    "\n",
    "def divide(a, b):\n",
    "    if b != 0:\n",
    "        return a / b\n",
    "    else:\n",
    "        return \"Error: Division by zero\""
   ]
  },
  {
   "cell_type": "markdown",
   "metadata": {},
   "source": [
    "- 第二个文件 io_handler.py"
   ]
  },
  {
   "cell_type": "code",
   "execution_count": null,
   "metadata": {},
   "outputs": [],
   "source": [
    "def get_input():\n",
    "    a = float(input(\"请输入第一个数字: \"))\n",
    "    b = float(input(\"请输入第二个数字: \"))\n",
    "    return a, b\n",
    "\n",
    "def display_result(result):\n",
    "    print(f\"计算结果: {result}\")"
   ]
  },
  {
   "cell_type": "markdown",
   "metadata": {},
   "source": [
    "- 第三个文件 main.py"
   ]
  },
  {
   "cell_type": "code",
   "execution_count": null,
   "metadata": {},
   "outputs": [],
   "source": [
    "import calculator\n",
    "import io_handler\n",
    "\n",
    "def main():\n",
    "    a, b = io_handler.get_input()\n",
    "    operation = input(\"请选择操作 (+, -, *, /): \")\n",
    "\n",
    "    if operation == '+':\n",
    "        result = calculator.add(a, b)\n",
    "    elif operation == '-':\n",
    "        result = calculator.subtract(a, b)\n",
    "    elif operation == '*':\n",
    "        result = calculator.multiply(a, b)\n",
    "    elif operation == '/':\n",
    "        result = calculator.divide(a, b)\n",
    "    else:\n",
    "        result = \"无效操作\"\n",
    "\n",
    "    io_handler.display_result(result)\n",
    "\n",
    "if __name__ == \"__main__\":\n",
    "    main()"
   ]
  },
  {
   "cell_type": "markdown",
   "metadata": {},
   "source": [
    "以下是如何在 PyCharm 中调试 main.py 的步骤：\n",
    "- 设置断点：\n",
    "在 main.py 中的 a, b = io_handler.get_input() 行设置断点。\n",
    "-  启动调试：\n",
    "点击 PyCharm 窗口右侧的调试按钮，程序会在断点处暂停。\n",
    "- 查看变量值：\n",
    "在调试窗口中查看变量 a 和 b 的值。\n",
    "使用“单步执行”继续运行程序，观察后续变量的变化。\n",
    "- 检查结果：\n",
    "在 display_result(result) 处设置断点，查看 result 的值是否正确。"
   ]
  },
  {
   "cell_type": "markdown",
   "metadata": {},
   "source": [
    "3. 利用匿名函数和递归函数进行程序。"
   ]
  },
  {
   "cell_type": "code",
   "execution_count": 9,
   "metadata": {},
   "outputs": [
    {
     "name": "stdout",
     "output_type": "stream",
     "text": [
      "3\n"
     ]
    },
    {
     "name": "stdout",
     "output_type": "stream",
     "text": [
      "请输入你要查询斐波那契第多少项： 8\n"
     ]
    },
    {
     "name": "stdout",
     "output_type": "stream",
     "text": [
      "斐波那契数列第8项为21\n"
     ]
    }
   ],
   "source": [
    "#匿名函数\n",
    "sum = lambda num1,num2:num1+num2\n",
    "#调用匿名函数\n",
    "c = sum(1,2)\n",
    "print(c)\n",
    "\n",
    "#递归函数（斐波那契数列）求第n项\n",
    "def f(n):\n",
    "    if n == 1 or n == 2:\n",
    "        return 1\n",
    "    else:\n",
    "        return f(n-1) + f(n-2)\n",
    "n = int(input('请输入你要查询斐波那契第多少项：'))\n",
    "print('斐波那契数列第{}项为{}'.format(n,f(n)))"
   ]
  },
  {
   "cell_type": "markdown",
   "metadata": {},
   "source": [
    "4. 完成教材104页的课后练习第4题。"
   ]
  },
  {
   "cell_type": "code",
   "execution_count": 14,
   "metadata": {},
   "outputs": [
    {
     "name": "stdout",
     "output_type": "stream",
     "text": [
      "69\t78\t87\t96\t159\t168\t177\t186\t195\t249\t258\t267\t276\t285\t294\t339\t348\t357\t366\t375\t384\t393\t429\t438\t447\t456\t465\t474\t483\t492\t519\t528\t537\t546\t555\t564\t573\t582\t591\t609\t618\t627\t636\t645\t654\t663\t672\t681\t690\t708\t717\t726\t735\t744\t753\t762\t771\t780\t807\t816\t825\t834\t843\t852\t861\t870\t906\t915\t924\t933\t942\t951\t960\t1059\t1068\t1077\t1086\t1095\t1149\t1158\t1167\t1176\t1185\t1194\t1239\t1248\t1257\t1266\t1275\t1284\t1293\t1329\t1338\t1347\t1356\t1365\t1374\t1383\t1392\t1419\t1428\t1437\t1446\t1455\t1464\t1473\t1482\t1491\t1509\t1518\t1527\t1536\t1545\t1554\t1563\t1572\t1581\t1590\t1608\t1617\t1626\t1635\t1644\t1653\t1662\t1671\t1680\t1707\t1716\t1725\t1734\t1743\t1752\t1761\t1770\t1806\t1815\t1824\t1833\t1842\t1851\t1860\t1905\t1914\t1923\t1932\t1941\t1950\t2049\t2058\t2067\t2076\t2085\t2094\t2139\t2148\t2157\t2166\t2175\t2184\t2193\t2229\t2238\t2247\t2256\t2265\t2274\t2283\t2292\t2319\t2328\t2337\t2346\t2355\t2364\t2373\t2382\t2391\t2409\t2418\t2427\t2436\t2445\t2454\t2463\t2472\t2481\t2490\t2508\t2517\t2526\t2535\t2544\t2553\t2562\t2571\t2580\t2607\t2616\t2625\t2634\t2643\t2652\t2661\t2670\t2706\t2715\t2724\t2733\t2742\t2751\t2760\t2805\t2814\t2823\t2832\t2841\t2850\t2904\t2913\t2922\t2931\t2940\t3039\t3048\t3057\t3066\t3075\t3084\t3093\t3129\t3138\t3147\t3156\t3165\t3174\t3183\t3192\t3219\t3228\t3237\t3246\t3255\t3264\t3273\t3282\t3291\t3309\t3318\t3327\t3336\t3345\t3354\t3363\t3372\t3381\t3390\t3408\t3417\t3426\t3435\t3444\t3453\t3462\t3471\t3480\t3507\t3516\t3525\t3534\t3543\t3552\t3561\t3570\t3606\t3615\t3624\t3633\t3642\t3651\t3660\t3705\t3714\t3723\t3732\t3741\t3750\t3804\t3813\t3822\t3831\t3840\t3903\t3912\t3921\t3930\t4029\t4038\t4047\t4056\t4065\t4074\t4083\t4092\t4119\t4128\t4137\t4146\t4155\t4164\t4173\t4182\t4191\t4209\t4218\t4227\t4236\t4245\t4254\t4263\t4272\t4281\t4290\t4308\t4317\t4326\t4335\t4344\t4353\t4362\t4371\t4380\t4407\t4416\t4425\t4434\t4443\t4452\t4461\t4470\t4506\t4515\t4524\t4533\t4542\t4551\t4560\t4605\t4614\t4623\t4632\t4641\t4650\t4704\t4713\t4722\t4731\t4740\t4803\t4812\t4821\t4830\t4902\t4911\t4920\t5019\t5028\t5037\t5046\t5055\t5064\t5073\t5082\t5091\t5109\t5118\t5127\t5136\t5145\t5154\t5163\t5172\t5181\t5190\t5208\t5217\t5226\t5235\t5244\t5253\t5262\t5271\t5280\t5307\t5316\t5325\t5334\t5343\t5352\t5361\t5370\t5406\t5415\t5424\t5433\t5442\t5451\t5460\t5505\t5514\t5523\t5532\t5541\t5550\t5604\t5613\t5622\t5631\t5640\t5703\t5712\t5721\t5730\t5802\t5811\t5820\t5901\t5910\t6009\t6018\t6027\t6036\t6045\t6054\t6063\t6072\t6081\t6090\t6108\t6117\t6126\t6135\t6144\t6153\t6162\t6171\t6180\t6207\t6216\t6225\t6234\t6243\t6252\t6261\t6270\t6306\t6315\t6324\t6333\t6342\t6351\t6360\t6405\t6414\t6423\t6432\t6441\t6450\t6504\t6513\t6522\t6531\t6540\t6603\t6612\t6621\t6630\t6702\t6711\t6720\t6801\t6810\t6900\t7008\t7017\t7026\t7035\t7044\t7053\t7062\t7071\t7080\t7107\t7116\t7125\t7134\t7143\t7152\t7161\t7170\t7206\t7215\t7224\t7233\t7242\t7251\t7260\t7305\t7314\t7323\t7332\t7341\t7350\t7404\t7413\t7422\t7431\t7440\t7503\t7512\t7521\t7530\t7602\t7611\t7620\t7701\t7710\t7800\t8007\t8016\t8025\t8034\t8043\t8052\t8061\t8070\t8106\t8115\t8124\t8133\t8142\t8151\t8160\t8205\t8214\t8223\t8232\t8241\t8250\t8304\t8313\t8322\t8331\t8340\t8403\t8412\t8421\t8430\t8502\t8511\t8520\t8601\t8610\t8700\t9006\t9015\t9024\t9033\t9042\t9051\t9060\t9105\t9114\t9123\t9132\t9141\t9150\t9204\t9213\t9222\t9231\t9240\t9303\t9312\t9321\t9330\t9402\t9411\t9420\t9501\t9510\t9600\t\n",
      "1至10000之间所有每一位数字相加和为15的整数个数为：592\n"
     ]
    }
   ],
   "source": [
    "'编写函数fun(n),返回整数n每一位上数字的和。利用该函数求出1至10000之间所有每一位数字相加和为15的整数以及个数'\n",
    "\n",
    "#fun函数\n",
    "def fun(n):\n",
    "    sum = 0\n",
    "    while n:\n",
    "        sum += n%10\n",
    "        n//=10\n",
    "    return sum\n",
    "cnt = 0\n",
    "for i in range(1,10000+1):\n",
    "    if fun(i) == 15:\n",
    "        print(i,end = '\\t')\n",
    "        cnt=cnt+1\n",
    "print()\n",
    "print('1至10000之间所有每一位数字相加和为15的整数个数为：%d'%cnt)"
   ]
  },
  {
   "cell_type": "markdown",
   "metadata": {},
   "source": [
    "5. 完成教材104页的课后练习第5题。"
   ]
  },
  {
   "cell_type": "code",
   "execution_count": 17,
   "metadata": {},
   "outputs": [
    {
     "name": "stdout",
     "output_type": "stream",
     "text": [
      "在字符串Hello World 666中小写字母有8个，大小字母有2个，数字字符有3个\n"
     ]
    }
   ],
   "source": [
    "'编写函数fun(s),fun可以返回字符串s中的小写字母、大写字母和数字字符的个数分别是多少'\n",
    "def fun(s):\n",
    "    cntl,cntu,cntd = 0,0,0\n",
    "    for i in s:\n",
    "        if i.islower():\n",
    "            cntl+=1\n",
    "        if i.isupper():\n",
    "            cntu+=1\n",
    "        if i.isdigit():\n",
    "            cntd+=1\n",
    "    print('在字符串{}中小写字母有{}个，大小字母有{}个，数字字符有{}个'.format(s,cntl,cntu,cntd))\n",
    "\n",
    "s = 'Hello World 666'\n",
    "fun(s)            "
   ]
  },
  {
   "cell_type": "markdown",
   "metadata": {},
   "source": [
    "### 四 实验总结"
   ]
  },
  {
   "cell_type": "markdown",
   "metadata": {},
   "source": [
    "本次实验旨在深入理解函数的基本概念，熟练掌握函数的声明、调用方法以及 Python 内置函数的使用技巧。同时，通过实践了解变量的作用域规则，区分并合理使用局部变量与全局变量。此外，实验还涉及递归函数和匿名函数的学习，以及模块化程序设计方法的掌握，并学会利用调试窗口查看变量值以辅助程序开发。\n",
    "\n",
    "1. 函数的基本概念与使用\n",
    "- 函数的声明与调用\n",
    "掌握了函数的定义语法，使用 def 关键字声明自定义函数，明确了函数参数的传递方式，包括位置参数、关键字参数、默认参数和可变参数等。\n",
    "通过实际编写和调用函数，理解了函数返回值的机制，能够根据需求设计具有明确功能的函数，提高了代码的复用性和可读性。\n",
    "Python 内置函数的使用\n",
    "熟悉了常用的内置函数，如 len()、range()、type()、isinstance() 等，能够在日常编程中灵活运用这些函数来简化代码，提高开发效率。\n",
    "学会了使用内置函数 input() 和 print() 进行简单的输入输出操作，以及利用 open() 函数进行文件的读写操作。\n",
    "\n",
    "2. 变量的作用域\n",
    "- 局部变量与全局变量\n",
    "深入理解了变量的作用域规则，明确局部变量在函数内部定义和使用，而全局变量在函数外部定义，可在整个程序范围内访问。\n",
    "掌握了在函数内部修改全局变量的方法，即使用 global 关键字声明全局变量，避免了因变量作用域问题导致的错误。\n",
    "通过实践体会到了合理使用局部变量和全局变量的重要性，能够在不同的编程场景下正确选择变量的定义方式。\n",
    "\n",
    "3. 递归函数与匿名函数\n",
    "- 递归函数\n",
    "学习了递归函数的概念，理解了递归函数通过函数自身调用来解决问题的机制，以及递归终止条件的设置方法。\n",
    "通过编写简单的递归函数（如计算阶乘、斐波那契数列等），掌握了递归函数的设计思路和实现方法，能够运用递归解决一些具有递归结构的问题。\n",
    "\n",
    "- 匿名函数\n",
    "了解了匿名函数（lambda 表达式）的定义和使用场景，掌握了使用 lambda 关键字创建匿名函数的方法。\n",
    "学会了将匿名函数与高阶函数（如 map()、filter()、sorted() 等）结合使用，能够简化代码，提高代码的简洁性和可读性。\n",
    "\n",
    "4. 模块化程序设计与调试\n",
    "- 模块化程序设计方法\n",
    "理解了模块化程序设计的思想，将程序分解为多个独立的模块，每个模块负责一个特定的功能，提高了代码的组织性和可维护性。\n",
    "学会了使用 import 语句导入自定义模块和标准库模块，并能够按照模块的接口规范调用其中的函数和类，实现了代码的复用和功能的扩展。\n",
    "通过实践体会到了模块化设计在大型项目开发中的优势，能够更好地协作和维护代码。\n",
    "\n",
    "- 调试窗口的使用\n",
    "掌握了在调试窗口中设置断点、单步执行、查看变量值等基本调试技巧，能够通过调试窗口深入了解程序的执行流程和变量的变化情况。\n",
    "学会了利用调试工具分析程序中的错误和异常，快速定位问题所在，并进行修复，提高了程序开发的效率和质量。\n",
    "\n",
    "5. 通过本次实验，我对 Python 的函数机制和模块化程序设计有了更深入的理解和掌握。函数作为程序的基本构建块，其灵活多样的定义和调用方式为代码的组织和复用提供了强大的支持。变量作用域的规则虽然简单，但在实际编程中却至关重要，正确使用局部变量和全局变量能够避免许多潜在的错误。递归函数和匿名函数为解决特定类型的问题提供了独特的思路和方法，丰富了我的编程技巧。模块化程序设计思想的引入，使我能够更好地组织代码结构，提高代码的可维护性和可扩展性。调试窗口的使用则为我提供了一种有效的手段来分析和修复程序中的问题，使我能够更加自信地面对复杂的编程任务。\n",
    "在实验过程中，我也遇到了一些困难和挑战，例如对递归函数的终止条件设置不够严谨导致的无限递归问题，以及在模块化设计中模块间依赖关系的处理等。但通过查阅资料、与同学讨论以及反复实践，我逐渐克服了这些问题，这不仅加深了我对相关知识点的理解，也培养了我的问题解决能力和编程思维。"
   ]
  },
  {
   "cell_type": "markdown",
   "metadata": {},
   "source": []
  }
 ],
 "metadata": {
  "kernelspec": {
   "display_name": "Python 3 (ipykernel)",
   "language": "python",
   "name": "python3"
  },
  "language_info": {
   "codemirror_mode": {
    "name": "ipython",
    "version": 3
   },
   "file_extension": ".py",
   "mimetype": "text/x-python",
   "name": "python",
   "nbconvert_exporter": "python",
   "pygments_lexer": "ipython3",
   "version": "3.12.7"
  }
 },
 "nbformat": 4,
 "nbformat_minor": 4
}
