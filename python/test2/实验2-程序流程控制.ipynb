{
 "cells": [
  {
   "cell_type": "markdown",
   "metadata": {},
   "source": [
    "## <center>实验二 程序流程控制</center>"
   ]
  },
  {
   "cell_type": "markdown",
   "metadata": {},
   "source": [
    "姓名：    谢大伟              学号： 9109223004                  班级： 计算机科学与技术231班  "
   ]
  },
  {
   "cell_type": "markdown",
   "metadata": {},
   "source": [
    "### 一、实验目的\n",
    "1. 了解Python程序的基本语法和编程规范。\n",
    "2. 掌握Python的基础本数据类型、变量、运算符、表达式和语句等知识。\n",
    "3. 掌握顺序结构、选择结构和循环结构三种流程控制语句。\n",
    "4. 掌握Python帮助文档的使用方法。"
   ]
  },
  {
   "cell_type": "markdown",
   "metadata": {},
   "source": [
    "### 二、实验内容\n",
    "1. 编写Python程序，分别输入长、宽、高，计算并输出长方体的面积和体积。\n",
    "2. 已知整数0占用24字节，其他较小整数占28字节，然后随着值的增加以4字节为单位增大内存，编写程序验证int类型所占内存空间的变化情况。\n",
    "3. 查看Python的帮助文档，简要介绍其包含的主要内容。利用在线帮助查看内置的输入函数input()和输出函数print()的语法格式，说明各参数的具体含义。\n",
    "4. 完成教材第60页课后练习的第3题到第8题。"
   ]
  },
  {
   "cell_type": "markdown",
   "metadata": {},
   "source": [
    "### 三 实验步骤"
   ]
  },
  {
   "cell_type": "markdown",
   "metadata": {},
   "source": [
    "1. 编写Python程序，分别输入长、宽、高，计算并输出长方体的面积和体积。"
   ]
  },
  {
   "cell_type": "code",
   "execution_count": 14,
   "metadata": {},
   "outputs": [
    {
     "name": "stdout",
     "output_type": "stream",
     "text": [
      "计算长方体的面积和体积\n"
     ]
    },
    {
     "name": "stdout",
     "output_type": "stream",
     "text": [
      "输入长方体的长： 3.0\n",
      "输入长方体的宽： 2.5\n",
      "输入长方体的高： 3.0\n"
     ]
    },
    {
     "name": "stdout",
     "output_type": "stream",
     "text": [
      "长方体的面积为：48.000000\n",
      "长方体的体积为：22.500000\n"
     ]
    }
   ],
   "source": [
    "print(\"计算长方体的面积和体积\")\n",
    "length = float(input(\"输入长方体的长：\"))\n",
    "width = float(input(\"输入长方体的宽：\"))\n",
    "height = float(input(\"输入长方体的高：\"))\n",
    "\n",
    "area = 2 *(length * width + length * height + width * height)\n",
    "volume = length * width * height\n",
    "print(\"长方体的面积为：%f\"%area)\n",
    "print(\"长方体的体积为：%f\"%volume)"
   ]
  },
  {
   "cell_type": "markdown",
   "metadata": {},
   "source": [
    "2. 已知整数0占用24字节，其他较小整数占28字节，然后随着值的增加以4字节为单位增大内存，编写程序验证int类型所占内存空间的变化情况。"
   ]
  },
  {
   "cell_type": "code",
   "execution_count": null,
   "metadata": {},
   "outputs": [
    {
     "name": "stdout",
     "output_type": "stream",
     "text": [
      "0:占28个字节\n",
      "4048:占28个字节\n",
      "22222222222222222222222222222222222222222222222:占48个字节\n",
      "3333333333333333333333333333333333333333333333333333333333333:占52个字节\n",
      "2324142342344234:占32个字节\n",
      "11111111111111111111111111:占36个字节\n"
     ]
    }
   ],
   "source": [
    "import sys #导入sys 用其中的getsize函数\n",
    "arr = {0,4048,2324142342344234,11111111111111111111111111,22222222222222222222222222222222222222222222222,3333333333333333333333333333333333333333333333333333333333333}\n",
    "for i in arr:\n",
    "    print(\"%d:占%d个字节\"%(i,sys.getsizeof(i)))"
   ]
  },
  {
   "cell_type": "markdown",
   "metadata": {},
   "source": [
    "3. 查看Python的帮助文档，简要介绍其包含的主要内容。利用在线帮助查看内置的输入函数input()和输出函数print()的语法格式，说明各参数的具体含义。"
   ]
  },
  {
   "cell_type": "code",
   "execution_count": null,
   "metadata": {},
   "outputs": [
    {
     "name": "stdout",
     "output_type": "stream",
     "text": [
      "Help on method raw_input in module ipykernel.kernelbase:\n",
      "\n",
      "raw_input(prompt='') method of ipykernel.ipkernel.IPythonKernel instance\n",
      "    Forward raw_input to frontends\n",
      "\n",
      "    Raises\n",
      "    ------\n",
      "    StdinNotImplementedError if active frontend doesn't support stdin.\n",
      "\n",
      "Help on built-in function print in module builtins:\n",
      "\n",
      "print(*args, sep=' ', end='\\n', file=None, flush=False)\n",
      "    Prints the values to a stream, or to sys.stdout by default.\n",
      "\n",
      "    sep\n",
      "      string inserted between values, default a space.\n",
      "    end\n",
      "      string appended after the last value, default a newline.\n",
      "    file\n",
      "      a file-like object (stream); defaults to the current sys.stdout.\n",
      "    flush\n",
      "      whether to forcibly flush the stream.\n",
      "\n"
     ]
    }
   ],
   "source": [
    "help(input)\n",
    "help(print)"
   ]
  },
  {
   "cell_type": "markdown",
   "metadata": {},
   "source": [
    "\n",
    "\n",
    "---\n",
    "\n",
    "##### Python `print()` 函数\n",
    "\n",
    "###### 语法\n",
    "```python\n",
    "print(*args, sep=' ', end='\\n', file=sys.stdout, flush=False)\n",
    "```\n",
    "\n",
    "##### 参数说明\n",
    "- **`*args`**：可变参数，表示要打印的对象，可多个，用逗号分隔。\n",
    "- **`sep=' '`**：分隔符，默认为空格，用于分隔多个对象。\n",
    "- **`end='\\n'`**：结束符，默认为换行符，用于指定打印结束后的附加字符。\n",
    "- **`file=sys.stdout`**：输出目标，默认为标准输出，也可指定文件或其他流。\n",
    "- **`flush=False`**：是否强制刷新输出缓冲区，默认为 `False`。\n",
    "\n",
    "---\n",
    "\n",
    "##### Python `input()` 函数\n",
    "\n",
    "###### 语法\n",
    "```python\n",
    "input(prompt=None)\n",
    "```\n",
    "\n",
    "###### 参数说明\n",
    "- **`prompt=None`**：提示信息，可选，用于提示用户输入内容。不提供时，不会显示提示信息。\n",
    "\n",
    "###### 返回值\n",
    "- 返回用户输入的内容，类型为字符串（`str`）。\n",
    "\n",
    "---\n",
    "\n",
    "##### Python 帮助文档主要内容\n",
    "1. **语言参考**：描述 Python 的语法、语义、数据类型、语句等。\n",
    "2. **标准库参考**：详细介绍 Python 标准库模块及其功能。\n",
    "3. **内置函数和类型**：提供 Python 内置函数和数据类型的详细说明。\n",
    "4. **安装和使用指南**：提供 Python 的安装、配置和使用方法。\n",
    "5. **教程和示例**：提供入门教程和示例代码，帮助用户快速上手。\n",
    "\n",
    "---"
   ]
  },
  {
   "cell_type": "markdown",
   "metadata": {},
   "source": [
    "4. 编写程序输出公元2000到公元3000直接的所有润年。"
   ]
  },
  {
   "cell_type": "code",
   "execution_count": 15,
   "metadata": {},
   "outputs": [
    {
     "name": "stdout",
     "output_type": "stream",
     "text": [
      "2000 2004 2008 2012 2016 2020 2024 2028 2032 2036 2040 2044 2048 2052 2056 \n",
      "2060 2064 2068 2072 2076 2080 2084 2088 2092 2096 2104 2108 2112 2116 2120 \n",
      "2124 2128 2132 2136 2140 2144 2148 2152 2156 2160 2164 2168 2172 2176 2180 \n",
      "2184 2188 2192 2196 2204 2208 2212 2216 2220 2224 2228 2232 2236 2240 2244 \n",
      "2248 2252 2256 2260 2264 2268 2272 2276 2280 2284 2288 2292 2296 2304 2308 \n",
      "2312 2316 2320 2324 2328 2332 2336 2340 2344 2348 2352 2356 2360 2364 2368 \n",
      "2372 2376 2380 2384 2388 2392 2396 2400 2404 2408 2412 2416 2420 2424 2428 \n",
      "2432 2436 2440 2444 2448 2452 2456 2460 2464 2468 2472 2476 2480 2484 2488 \n",
      "2492 2496 2504 2508 2512 2516 2520 2524 2528 2532 2536 2540 2544 2548 2552 \n",
      "2556 2560 2564 2568 2572 2576 2580 2584 2588 2592 2596 2604 2608 2612 2616 \n",
      "2620 2624 2628 2632 2636 2640 2644 2648 2652 2656 2660 2664 2668 2672 2676 \n",
      "2680 2684 2688 2692 2696 2704 2708 2712 2716 2720 2724 2728 2732 2736 2740 \n",
      "2744 2748 2752 2756 2760 2764 2768 2772 2776 2780 2784 2788 2792 2796 2800 \n",
      "2804 2808 2812 2816 2820 2824 2828 2832 2836 2840 2844 2848 2852 2856 2860 \n",
      "2864 2868 2872 2876 2880 2884 2888 2892 2896 2904 2908 2912 2916 2920 2924 \n",
      "2928 2932 2936 2940 2944 2948 2952 2956 2960 2964 2968 2972 2976 2980 2984 \n",
      "2988 2992 2996 "
     ]
    }
   ],
   "source": [
    "cnt = 0\n",
    "for i in range(2000, 3001):\n",
    "    if (i % 4 == 0 and i % 100 != 0) or (i % 400 == 0): #闰年判断方法能被四整除但不能被100整除或者能被四百整除\n",
    "        print(i,end = \" \")\n",
    "        cnt+=1\n",
    "        if(cnt % 15 == 0): #每15个闰年换一行\n",
    "            print()"
   ]
  },
  {
   "cell_type": "markdown",
   "metadata": {},
   "source": [
    "5. 编写程序输出0-90度之间每隔5度是的角度以及正、余弦函数值。"
   ]
  },
  {
   "cell_type": "code",
   "execution_count": 29,
   "metadata": {},
   "outputs": [
    {
     "name": "stdout",
     "output_type": "stream",
     "text": [
      " 0°的正弦值为：0.000000     0°的余弦值为：1.000000     5°的正弦值为：0.087156     5°的余弦值为：0.996195    \n",
      "10°的正弦值为：0.173648    10°的余弦值为：0.984808    15°的正弦值为：0.258819    15°的余弦值为：0.965926    \n",
      "20°的正弦值为：0.342020    20°的余弦值为：0.939693    25°的正弦值为：0.422618    25°的余弦值为：0.906308    \n",
      "30°的正弦值为：0.500000    30°的余弦值为：0.866025    35°的正弦值为：0.573576    35°的余弦值为：0.819152    \n",
      "40°的正弦值为：0.642788    40°的余弦值为：0.766044    45°的正弦值为：0.707107    45°的余弦值为：0.707107    \n",
      "50°的正弦值为：0.766044    50°的余弦值为：0.642788    55°的正弦值为：0.819152    55°的余弦值为：0.573576    \n",
      "60°的正弦值为：0.866025    60°的余弦值为：0.500000    65°的正弦值为：0.906308    65°的余弦值为：0.422618    \n",
      "70°的正弦值为：0.939693    70°的余弦值为：0.342020    75°的正弦值为：0.965926    75°的余弦值为：0.258819    \n",
      "80°的正弦值为：0.984808    80°的余弦值为：0.173648    85°的正弦值为：0.996195    85°的余弦值为：0.087156    \n"
     ]
    }
   ],
   "source": [
    "cnt = 0\n",
    "import math #导入math库使用其中的三角函数\n",
    "for angle in range(0,90,5): #每隔五度\n",
    "\n",
    "    radian = math.radians(angle) #将角度转换为弧度\n",
    "    print(\"%2d°的正弦值为：%f\"%(angle,math.sin(radian)),end=\"    \")\n",
    "    print(\"%2d°的余弦值为：%f\"%(angle,math.cos(radian)),end=\"    \")\n",
    "    cnt += 1\n",
    "    if cnt%2 == 0 :\n",
    "        print()\n",
    "    "
   ]
  },
  {
   "cell_type": "code",
   "execution_count": null,
   "metadata": {},
   "outputs": [],
   "source": []
  }
 ],
 "metadata": {
  "kernelspec": {
   "display_name": "base",
   "language": "python",
   "name": "python3"
  },
  "language_info": {
   "codemirror_mode": {
    "name": "ipython",
    "version": 3
   },
   "file_extension": ".py",
   "mimetype": "text/x-python",
   "name": "python",
   "nbconvert_exporter": "python",
   "pygments_lexer": "ipython3",
   "version": "3.12.7"
  }
 },
 "nbformat": 4,
 "nbformat_minor": 4
}
