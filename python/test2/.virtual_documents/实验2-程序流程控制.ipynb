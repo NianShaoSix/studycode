

















print("计算长方体的面积和体积")
length = float(input("输入长方体的长："))
width = float(input("输入长方体的宽："))
height = float(input("输入长方体的高："))

area = 2 *(length * width + length * height + width * height)
volume = length * width * height
print("长方体的面积为：%f"%area)
print("长方体的体积为：%f"%volume)





import sys #导入sys 用其中的getsize函数
arr = {0,4048,2324142342344234,11111111111111111111111111,22222222222222222222222222222222222222222222222,3333333333333333333333333333333333333333333333333333333333333}
for i in arr:
    print("%d:占%d个字节"%(i,sys.getsizeof(i)))





help(input)
help(print)








cnt = 0
for i in range(2000, 3001):
    if (i % 4 == 0 and i % 100 != 0) or (i % 400 == 0): #闰年判断方法能被四整除但不能被100整除或者能被四百整除
        print(i,end = " ")
        cnt+=1
        if(cnt % 15 == 0): #每15个闰年换一行
            print()





import math #导入math库使用其中的三角函数
for angle in range(0,90,5) #每隔五度
#将角度转换为弧度
radian = math.radian(angle)
print("%d°的正弦值为：%f"%(i,math.sin(radian)))
print("%d°的余弦值为：%f"%(i,math.cos(radian)))




