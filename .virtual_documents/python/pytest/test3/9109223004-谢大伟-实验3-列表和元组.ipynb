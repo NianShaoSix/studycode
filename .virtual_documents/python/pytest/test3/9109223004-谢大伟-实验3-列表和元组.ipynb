

















#list
students = ["张三","李四","王五"]
#tuple
tupScores = 98,96,97,95 #tupScores = (98,96,97,95)
tupNames = ("萧何",) #没有逗号会变成str
#str
name = '萧何'
#数字序列
number_list = list(range(1,11))





#递归方法实现
 def fib_recursive(n):
    if n <= 1:
        return n
    return fib_recursive(n-1) + fib_recursive(n-2)


#迭代法
def fib_iterative(n):
    a, b = 0, 1
    for _ in range(n):
        a, b = b, a + b
    return a


#动态规划
from functools import lru_cache

@lru_cache(maxsize=None)
def fib_dp(n):
    if n <= 1:
        return n
    return fib_dp(n-1) + fib_dp(n-2)


#矩阵快速幂
import numpy as np

def matrix_power(matrix, n):
    result = np.eye(2, dtype=int)
    while n > 0:
        if n % 2 == 1:
            result = np.dot(result, matrix)
        matrix = np.dot(matrix, matrix)
        n //= 2
    return result

def fib_matrix(n):
    base = np.array([[1,1], [1,0]])
    return matrix_power(base, n)[0,1]








print("列表为：")
I = [54,36,75,28,50]
print(I)
print("在列表尾部插入元素42:")
I.append(42)
print(I)
print("在28前面插入66:")
I.insert(3,66)
print(I)
print("删除并输出元素28:")
i = I.index(28)
print(I.pop(i))
print(I)
print("将列表降序排列:")
I.sort(reverse = True)
print(I)
print("清空列表:")
I.clear()
print(I)





import random
random_integers_list = [random.randint(1000, 5000) for i in range(20)]
print(random_integers_list)

for i in random_integers_list:
    if(i%2!=0 and i%3!=0 and i%5!=0 and i%7!=0):
        print(i,end=' ')





#存储每个运动员信息
items = ['姓名','性别','100m', '3000m','跳远','跳高']
tables = [['王平','男',1,1,0,0],['李丽','女',0,1,0,1],['陈小梅','女',0,0,1,0],['孙洪涛','男',0,1,1,1],['方亮','男',1,0,1,0]]

#求报名项目超过两项(含两项)的学生人数
list1 = [0,0,0,0]
print("（1）求报名项目超过两项(含两项)的学生人数")
#统计各项人数
for i in tables:
    for j in range(2,6):
        list1[j-2]+=i[j]
j = 2
for i in list1:
    if i >=2:
        print(items[j],'报名人数为：{}人'.format(i))
    j+=1
#输出所有女生报名情况
print('(2)输出女生的报名情况')
for i in tables:
    if i[1] == '女':
        print(i[0],'报名了',sep='',end='')
        for j in range(2,6):
            if i[j] == 1:
                print(items[j],end=' ')
        print('') 
#输出所有报名3000m的学生姓名和性别
print('(3)输出所有报名了3000m的学生姓名和性别')
for i in tables:
    if i[3]==1:
        print(i[0],i[1])






