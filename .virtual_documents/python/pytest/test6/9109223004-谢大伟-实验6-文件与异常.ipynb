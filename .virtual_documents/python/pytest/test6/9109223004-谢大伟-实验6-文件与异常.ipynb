

















import os
#找到对应工作路径
os.chdir(r"d:/studycode/python/pytest/test6")
#打开文件
file = open("nature.txt",'r')
#读取文本内容
text = file.read()

#统计文本中出现频率最高的10个单词
#文本预处理
def getText(text):
    "将文本中所有大写字母转换成小写字母"
    text = text.lower()
    "将标点符号转换成空格"
    for ch in ",.;?-:\'":
        text = text.replace(ch," ")
    return text

#统计词频函数，topen表示取频率最高的单词个数
def wordFreq(text,topn):
    '将文本分词'
    words = text.split()
    counts = {}
    for word in words:
        counts[word] = counts.get(word,0) + 1
    # '定义集合存放时需要去除的无意义的单词'
    # excludes = {'the','and','to','of','a','is','it','this','that','with','from','its','us','in'}
    # for word in excludes:
    #     if word in counts:
    #         del(counts[word])

    '在字典转换为列表，以方便排序'
    items = list(counts.items())
    items.sort(key = lambda x:x[1], reverse = True)
    return items[:topn]

#统计结果
text = getText(text)
file2 = open("out.txt",'w')
for word,freq in wordFreq(text,10):
    file2.write("{:<10}{:>}\n".format(word,freq))

file.close()
file2.close()












'请根据第六章课后习题（1）中最后生成的通讯录字典创建“通讯录.csv”文件；然后编写程序实现查询大王的手机号、QQ号和微信号'

import csv

# 创建通讯录
dicTXL = {'小新': [13913000001, 18191220001],
          '小亮': [13913000002, 181191220002],
          '小刚': [13913000003, 18191220003]}
# 隔壁宿舍舍长通讯录
dicOther = {'大刘': [1391400001, 18191230001],
            '大王': [13914000002, 18191230002],
            '大张': [13914000003, 18191230003]}

# 合并通讯录
dicTXL.update(dicOther)
# 微信通讯录
dicWX = {'小新': 'xx9907',
         '小刚': 'gang1004',
         '大王': 'jack_w',
         '大刘': 'liu666'}
for k, v in dicTXL.items():
    if k in dicWX:
        dicTXL[k].append(dicWX[k])
    else:
        dicTXL[k].append(str(dicTXL[k][0]))
# print('更改前的通讯录为：')
# print(dicTXL)
# print('更改后的通讯录为：')
# # 将大王的手机号更改为13914000004
# dicTXL['大王'][0] = 13914000004
# print(dicTXL)

# 创建“通讯录.csv”文件
with open('通讯录.csv', 'w', newline='', encoding='utf-8') as csvfile:
    writer = csv.writer(csvfile)
    # 写入表头
    writer.writerow(['姓名', '手机号', 'QQ号', '微信号'])
    # 写入通讯录数据
    for name, info in dicTXL.items():
        writer.writerow([name, info[0], info[1], info[2]])

# 查询大王的手机号、QQ号和微信号
name = '大王'
if name in dicTXL:
    print(f"{name}同学的手机号为：{dicTXL[name][0]}")
    print(f"{name}同学的QQ号为：{dicTXL[name][1]}")
    print(f"{name}同学的微信号为：{dicTXL[name][2]}")
else:
    print('没有该同学的联系方式')









