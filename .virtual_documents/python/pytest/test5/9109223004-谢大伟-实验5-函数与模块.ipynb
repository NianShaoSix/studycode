

















#函数的定义和声明
def sum(num1,num2):
    '两数相加'
    '两数必须为整数或者浮点数'
    if not (isinstance(num1,(int,float)) and isinstance(num2,(int,float))):
        raise TypeError('参数类型错误')
    return num1 + num2

#函数的调用
print(sum(1,2))

#python内置函数的使用
s = 'hello world'
print(len(s))
a = -1.11
print(abs(a))









def add(a, b):
    return a + b

def subtract(a, b):
    return a - b

def multiply(a, b):
    return a * b

def divide(a, b):
    if b != 0:
        return a / b
    else:
        return "Error: Division by zero"





def get_input():
    a = float(input("请输入第一个数字: "))
    b = float(input("请输入第二个数字: "))
    return a, b

def display_result(result):
    print(f"计算结果: {result}")





import calculator
import io_handler

def main():
    a, b = io_handler.get_input()
    operation = input("请选择操作 (+, -, *, /): ")

    if operation == '+':
        result = calculator.add(a, b)
    elif operation == '-':
        result = calculator.subtract(a, b)
    elif operation == '*':
        result = calculator.multiply(a, b)
    elif operation == '/':
        result = calculator.divide(a, b)
    else:
        result = "无效操作"

    io_handler.display_result(result)

if __name__ == "__main__":
    main()








#匿名函数
sum = lambda num1,num2:num1+num2
#调用匿名函数
c = sum(1,2)
print(c)

#递归函数（斐波那契数列）求第n项
def f(n):
    if n == 1 or n == 2:
        return 1
    else:
        return f(n-1) + f(n-2)
n = int(input('请输入你要查询斐波那契第多少项：'))
print('斐波那契数列第{}项为{}'.format(n,f(n)))





'编写函数fun(n),返回整数n每一位上数字的和。利用该函数求出1至10000之间所有每一位数字相加和为15的整数以及个数'

#fun函数
def fun(n):
    sum = 0
    while n:
        sum += n%10
        n//=10
    return sum
cnt = 0
for i in range(1,10000+1):
    if fun(i) == 15:
        print(i,end = '\t')
        cnt=cnt+1
print()
print('1至10000之间所有每一位数字相加和为15的整数个数为：%d'%cnt)





'编写函数fun(s),fun可以返回字符串s中的小写字母、大写字母和数字字符的个数分别是多少'
def fun(s):
    cntl,cntu,cntd = 0,0,0
    for i in s:
        if i.islower():
            cntl+=1
        if i.isupper():
            cntu+=1
        if i.isdigit():
            cntd+=1
    print('在字符串{}中小写字母有{}个，大小字母有{}个，数字字符有{}个'.format(s,cntl,cntu,cntd))

s = 'Hello World 666'
fun(s)            









